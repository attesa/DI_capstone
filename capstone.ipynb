{
 "cells": [
  {
   "cell_type": "code",
   "execution_count": 147,
   "metadata": {
    "collapsed": true
   },
   "outputs": [],
   "source": [
    "import pandas as pd\n",
    "import numpy as np\n",
    "import matplotlib.pyplot as plt\n",
    "from datetime import datetime\n",
    "import re\n",
    "from scipy.stats.stats import pearsonr\n",
    "from matplotlib import cm\n"
   ]
  },
  {
   "cell_type": "code",
   "execution_count": 4,
   "metadata": {
    "collapsed": true
   },
   "outputs": [],
   "source": [
    "df_il = pd.read_csv(\"IL_cleaned.csv\",low_memory=False)\n",
    "df_ct = pd.read_csv(\"CT_cleaned.csv\",low_memory=False)"
   ]
  },
  {
   "cell_type": "code",
   "execution_count": 75,
   "metadata": {
    "collapsed": true
   },
   "outputs": [],
   "source": [
    "#first plot\n",
    "#choosing year 2014\n",
    "#Distribution  \n",
    "\n",
    "#datetime.strptime(lst, \"%b-%Y\")\n",
    "il_date = (df_il['stop_date'] >= '2014-01-01') & (df_il['stop_date'] < '2015-01-01')\n",
    "df_il_date = df_il[il_date]\n"
   ]
  },
  {
   "cell_type": "code",
   "execution_count": 140,
   "metadata": {},
   "outputs": [
    {
     "name": "stdout",
     "output_type": "stream",
     "text": [
      "24\n",
      "24\n"
     ]
    }
   ],
   "source": [
    "#df_il_time['stop_date'].value_counts()\n",
    "#f_il_date.head()\n",
    "il_temp = df_il_date['stop_time'].value_counts()\n",
    "il_time = []\n",
    "il_count = []\n",
    "for key in il_temp.keys():\n",
    "    time = float(key[0:2])\n",
    "    if time in il_time:\n",
    "        il_count[il_time.index(time)] += (il_temp[key])\n",
    "    else:\n",
    "        il_time.append(time)\n",
    "        il_count.append(il_temp[key])\n",
    "#normalize\n",
    "il_prob = []\n",
    "#print (len(il_count))\n",
    "#print (len(il_time))\n",
    "for i in range(len(il_count)):\n",
    "    il_prob.append(il_count[i] / float(np.sum(il_count)))\n",
    "\n",
    "#print (len(il_prob))\n",
    "#print (il_prob)\n",
    "#print (il_time)\n",
    "#fig, ax = plt.subplots()\n",
    "\n",
    "\n",
    "ct_date = (df_ct['stop_date'] >= '2014-01-01') & (df_ct['stop_date'] < '2015-01-01')\n",
    "df_ct_date = df_ct[ct_date]\n",
    "\n",
    "ct_temp = df_ct_date['stop_time'].value_counts()\n",
    "ct_time = []\n",
    "ct_count = []\n",
    "for key in ct_temp.keys():\n",
    "    time = float(key[0:2])\n",
    "    if time in ct_time:\n",
    "        ct_count[ct_time.index(time)] += (ct_temp[key])\n",
    "    else:\n",
    "        ct_time.append(time)\n",
    "        ct_count.append(ct_temp[key])\n",
    "#normalize\n",
    "ct_prob = []\n",
    "print (len(ct_count))\n",
    "print (len(ct_time))\n",
    "for i in range(len(ct_count)):\n",
    "    ct_prob.append(ct_count[i] / float(np.sum(ct_count)))\n",
    "#print (len(ct_prob))\n",
    "#print (ct_prob)\n",
    "#print (ct_time)\n",
    "\n",
    "ct_time = np.asarray(ct_time)\n",
    "\n",
    "plt.figure(figsize = (10,5))\n",
    "\n",
    "width = 0.35\n",
    "plt.title('2014 Police Stop Probability vs. Hour of the Day')\n",
    "plt.ylabel('Probability')\n",
    "plt.xlabel('Hour of Day')\n",
    "#plt.xticklabels(tick_label)\n",
    "rects1 = plt.bar(il_time, il_prob, width, color = 'r')\n",
    "rects2 = plt.bar(ct_time + width, ct_prob, width, color = 'Y')\n",
    "#plt.show()\n",
    "plt.legend((rects1[0],rects2[0]),(\"Illinois\",\"Connecticut\"))\n",
    "plt.savefig(\"K:/DI/capstone_1.png\",dpi=1000)\n"
   ]
  },
  {
   "cell_type": "code",
   "execution_count": 141,
   "metadata": {
    "collapsed": true
   },
   "outputs": [],
   "source": [
    "#second plot\n",
    "#still using 2014\n",
    "#df_il_date\n",
    "#df_ct_date\n",
    "\n",
    "#df_il_vl_out = df_il_date['violation'].value_counts()/float(sum(df_il_date['violation'].value_counts()))\n",
    "#df_ct_vl_out = df_ct_date['violation'].value_counts()/float(sum(df_ct_date['violation'].value_counts()))\n",
    "\n",
    "df_il_vl_out = 100*df_il_date['stop_outcome'].value_counts()/float(sum(df_il_date['stop_outcome'].value_counts()))\n",
    "df_ct_vl_out = 100*df_ct_date['stop_outcome'].value_counts()/float(sum(df_ct_date['stop_outcome'].value_counts()))\n",
    "\n",
    "\n",
    "#df_il_vl_prob = df_il_date['violation'].value_counts()/float(sum(df_il_date['violation'].value_counts()))\n",
    "#df_ct_vl_prob = df_ct_date['violation'].value_counts()/float(sum(df_ct_date['violation'].value_counts()))\n",
    "\n"
   ]
  },
  {
   "cell_type": "code",
   "execution_count": 142,
   "metadata": {},
   "outputs": [
    {
     "data": {
      "text/plain": [
       "Citation           51.052731\n",
       "Written Warning    43.996932\n",
       "Verbal Warning      4.950337\n",
       "Name: stop_outcome, dtype: float64"
      ]
     },
     "execution_count": 142,
     "metadata": {},
     "output_type": "execute_result"
    }
   ],
   "source": [
    "df_il_vl_out"
   ]
  },
  {
   "cell_type": "code",
   "execution_count": 143,
   "metadata": {},
   "outputs": [
    {
     "data": {
      "text/plain": [
       "Ticket             70.424028\n",
       "Verbal Warning     15.119840\n",
       "Written Warning     8.360970\n",
       "Summons             3.753565\n",
       "Arrest              2.341597\n",
       "Name: stop_outcome, dtype: float64"
      ]
     },
     "execution_count": 143,
     "metadata": {},
     "output_type": "execute_result"
    }
   ],
   "source": [
    "df_ct_vl_out"
   ]
  },
  {
   "cell_type": "code",
   "execution_count": 153,
   "metadata": {
    "collapsed": true
   },
   "outputs": [],
   "source": [
    "#pie plot, for Ticket, Written warning, Verbal warning\n",
    "il_data = [df_il_vl_out['Citation'], df_il_vl_out['Written Warning'],  df_il_vl_out['Verbal Warning']]\n",
    "ct_data = [(df_ct_vl_out['Ticket'] + df_ct_vl_out['Summons'] + df_ct_vl_out['Arrest']), df_ct_vl_out['Written Warning'],  df_ct_vl_out['Verbal Warning']]\n",
    "pie_labels =['Ticket or Worse', 'Written Warning', 'Verbal Warning']\n",
    "\n",
    "cs=cm.Set1(np.arange(5)/5.)\n",
    "\n",
    "plt.suptitle('2014 Police Stop Results')\n",
    "plt.figure(figsize = (10,5))\n",
    "plt.subplot(121)\n",
    "plt.title('Illinois')\n",
    "patches, texts, autotexts = plt.pie(il_data,  labels = pie_labels, autopct='%1.1f%%',pctdistance=0.85,colors=cs,\n",
    "        shadow=False, startangle=90)\n",
    "for i in autotexts:\n",
    "    i.set_fontsize(5)\n",
    "for i in texts:\n",
    "    i.set_fontsize(7)\n",
    "\n",
    "plt.subplot(122)\n",
    "plt.title('Connecticut ')\n",
    "patches, texts, autotexts = plt.pie(ct_data,  labels = pie_labels, autopct='%1.1f%%',pctdistance=0.85,colors=cs,\n",
    "        shadow=False, startangle=90)\n",
    "for i in autotexts:\n",
    "    i.set_fontsize(5)\n",
    "for i in texts:\n",
    "    i.set_fontsize(7)\n",
    "plt.suptitle('2014 Police Stop Results')\n",
    "plt.savefig(\"K:/DI/capstone_2.png\",dpi=1000)"
   ]
  },
  {
   "cell_type": "code",
   "execution_count": 2,
   "metadata": {},
   "outputs": [
    {
     "data": {
      "text/plain": [
       "'1.232'"
      ]
     },
     "execution_count": 2,
     "metadata": {},
     "output_type": "execute_result"
    }
   ],
   "source": [
    "a = 1.23154\n",
    "'{:.3f}'.format(a)"
   ]
  },   

  {
   "cell_type": "code",
   "execution_count": null,
   "metadata": {
    "collapsed": true
   },
   "outputs": [],
   "source": []
  }
 ],
 "metadata": {
  "kernelspec": {
   "display_name": "Python 3",
   "language": "python",
   "name": "python3"
  },
  "language_info": {
   "codemirror_mode": {
    "name": "ipython",
    "version": 3
   },
   "file_extension": ".py",
   "mimetype": "text/x-python",
   "name": "python",
   "nbconvert_exporter": "python",
   "pygments_lexer": "ipython3",
   "version": "3.6.1"
  }
 },
 "nbformat": 4,
 "nbformat_minor": 2
}
